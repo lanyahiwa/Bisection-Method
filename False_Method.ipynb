{
  "nbformat": 4,
  "nbformat_minor": 0,
  "metadata": {
    "colab": {
      "provenance": [],
      "collapsed_sections": [],
      "authorship_tag": "ABX9TyMDdMc0SkfPVFVjK0Qdf7v2",
      "include_colab_link": true
    },
    "kernelspec": {
      "name": "python3",
      "display_name": "Python 3"
    },
    "language_info": {
      "name": "python"
    }
  },
  "cells": [
    {
      "cell_type": "markdown",
      "metadata": {
        "id": "view-in-github",
        "colab_type": "text"
      },
      "source": [
        "<a href=\"https://colab.research.google.com/github/lanyahiwa/Bisection-Method/blob/main/False_Method.ipynb\" target=\"_parent\"><img src=\"https://colab.research.google.com/assets/colab-badge.svg\" alt=\"Open In Colab\"/></a>"
      ]
    },
    {
      "cell_type": "code",
      "execution_count": null,
      "metadata": {
        "colab": {
          "base_uri": "https://localhost:8080/"
        },
        "id": "K0SbUy4nft3C",
        "outputId": "bd6df3ff-c3d3-4a55-cb21-d68ee8399498"
      },
      "outputs": [
        {
          "output_type": "stream",
          "name": "stdout",
          "text": [
            "A: 2\n",
            "B : 3\n",
            " Error: 0.0001\n",
            "FALSE METHOD\n",
            "Iteration-1, x2 = 2.785714 and f(x2) = -1.310860\n",
            "Iteration-2, x2 = 2.850875 and f(x2) = -0.083923\n",
            "Iteration-3, x2 = 2.854933 and f(x2) = -0.005125\n",
            "Iteration-4, x2 = 2.855180 and f(x2) = -0.000312\n",
            "Iteration-5, x2 = 2.855196 and f(x2) = -0.000019\n",
            "\n",
            " root is: 2.85519556\n"
          ]
        }
      ],
      "source": [
        "\n",
        "def f(x):\n",
        "    return x**3-5*x-9\n",
        "\n",
        "def falsePosition(x0,x1,e):\n",
        "    step = 1\n",
        "    print('FALSE METHOD')\n",
        "    condition = True\n",
        "    while condition:\n",
        "        x2 = x0 - (x1-x0) * f(x0)/( f(x1) - f(x0) )\n",
        "        print('Iteration-%d, x2 = %0.6f and f(x2) = %0.6f' % (step, x2, f(x2)))\n",
        "\n",
        "        if f(x0) * f(x2) < 0:\n",
        "            x1 = x2\n",
        "        else:\n",
        "            x0 = x2\n",
        "0\n",
        "        step = step + 1\n",
        "        condition = abs(f(x2)) > e\n",
        "\n",
        "    print('\\n root is: %0.8f' % x2)\n",
        "\n",
        "x0 = input('A: ')\n",
        "x1 = input('B : ')\n",
        "e = input(' Error: ')\n",
        "\n",
        "x0 = float(x0)\n",
        "x1 = float(x1)\n",
        "e = float(e)\n",
        "\n",
        "if f(x0) * f(x1) > 0.0:\n",
        "    print('Given guess values do not bracket the root.')\n",
        "    print('Try Again with different guess values.')\n",
        "else:\n",
        "    falsePosition(x0,x1,e)"
      ]
    }
  ]
}